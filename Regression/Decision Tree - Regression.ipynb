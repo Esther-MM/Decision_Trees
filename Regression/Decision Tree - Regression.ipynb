{
 "cells": [
  {
   "cell_type": "markdown",
   "id": "500357f4",
   "metadata": {},
   "source": [
    "#### 1. Import Libraries"
   ]
  },
  {
   "cell_type": "code",
   "execution_count": 1,
   "id": "d98d5ec3",
   "metadata": {},
   "outputs": [],
   "source": [
    "#import the neccessary libraries\n",
    "\n",
    "import numpy as np\n",
    "import pandas as pd\n",
    "from sklearn.model_selection import train_test_split\n",
    "from sklearn.tree import DecisionTreeRegressor\n",
    "from sklearn.metrics import accuracy_score, mean_squared_error"
   ]
  },
  {
   "cell_type": "markdown",
   "id": "412e888e",
   "metadata": {},
   "source": [
    "#### 2. Load and prepare data"
   ]
  },
  {
   "cell_type": "code",
   "execution_count": null,
   "id": "14d0bc0a",
   "metadata": {},
   "outputs": [],
   "source": [
    "df = pd.read_csv('sample_data.csv')\n",
    "\n",
    "\n",
    "# Split data into features and target variable\n",
    "X = df.drop('target_variable', axis=1)  # Drop target variable and remain with predictor variables\n",
    "y = df['target_variable']               # Target variable\n",
    "\n",
    "# Split data into training and testing sets\n",
    "X_train, X_test, y_train, y_test = train_test_split(X, y, test_size=0.2, random_state=42)"
   ]
  },
  {
   "cell_type": "markdown",
   "id": "2a880c4a",
   "metadata": {},
   "source": [
    "#### 3. Call and Train the Model"
   ]
  },
  {
   "cell_type": "code",
   "execution_count": null,
   "id": "f72926ce",
   "metadata": {},
   "outputs": [],
   "source": [
    "# Create a decision tree regressor object\n",
    "dtr_model = DecisionTreeRegressor(random_state=42)\n",
    "\n",
    "# Train the model on the training data\n",
    "dtr_model.fit(X_train, y_train)\n"
   ]
  },
  {
   "cell_type": "markdown",
   "id": "2460fc37",
   "metadata": {},
   "source": [
    "#### 4. Make Predictions"
   ]
  },
  {
   "cell_type": "code",
   "execution_count": null,
   "id": "0366ba57",
   "metadata": {},
   "outputs": [],
   "source": [
    "# Make predictions\n",
    "\n",
    "y_pred = dtr_model.predict(X_test)\n"
   ]
  },
  {
   "cell_type": "markdown",
   "id": "d534ddf3",
   "metadata": {},
   "source": [
    "#### 5. Model Evaluation"
   ]
  },
  {
   "cell_type": "code",
   "execution_count": null,
   "id": "8eca9aff",
   "metadata": {},
   "outputs": [],
   "source": [
    "# Evaluate Mean Squared Error\n",
    "\n",
    "mse = mean_squared_error(y_test, y_pred)\n",
    "print(\"Mean Squared Error:\", mse)"
   ]
  },
  {
   "cell_type": "markdown",
   "id": "42d2662c",
   "metadata": {},
   "source": [
    "#### 6.  Model Tuning"
   ]
  },
  {
   "cell_type": "code",
   "execution_count": null,
   "id": "7656e513",
   "metadata": {},
   "outputs": [],
   "source": [
    "# Example of hyperparameter tuning for a decision tree regressor uing GridSearchCV\n",
    "\n",
    "#import GridSearchCV\n",
    "from sklearn.model_selection import GridSearchCV\n",
    "\n",
    "\n",
    "#create dictionary with the key as hyperparameters and value as list of hyperparameter values to be used\n",
    "param_grid = {\n",
    "    'max_depth': [3, 5, 7],\n",
    "    'min_samples_split': [2, 5, 10],\n",
    "    'min_samples_leaf': [2, 3, 4]\n",
    "}\n",
    "\n",
    "\n",
    "#create a grid_search object hat takes in the model, param_grid and the cross validation setting\n",
    "grid_search = GridSearchCV(estimator=dtr_model, param_grid=param_grid, cv=5)\n",
    "\n",
    "\n",
    "#fit the grid_search object with the training data\n",
    "grid_search.fit(X_train, y_train)\n",
    "\n",
    "\n",
    "#retrieve the best combination of hyperparameters found and best estimator (model)\n",
    "best_params = grid_search.best_params_\n",
    "best_reg = grid_search.best_estimator_\n",
    "\n",
    "# Use the best model for prediction\n",
    "y_pred = best_reg.predict(X_test)\n"
   ]
  },
  {
   "cell_type": "markdown",
   "id": "98e677eb",
   "metadata": {},
   "source": [
    "#### 7. Interpret the Model"
   ]
  },
  {
   "cell_type": "code",
   "execution_count": null,
   "id": "2f06c45b",
   "metadata": {},
   "outputs": [],
   "source": [
    "#Visualise the tree to understand the decision making process\n",
    "\n",
    "from sklearn.tree import plot_tree\n",
    "import matplotlib.pyplot as plt\n",
    "\n",
    "plt.figure(figsize=(20,10))\n",
    "plot_tree(dtr_model, filled=True, feature_names=X.columns)\n",
    "plt.show()"
   ]
  }
 ],
 "metadata": {
  "kernelspec": {
   "display_name": "Python 3 (ipykernel)",
   "language": "python",
   "name": "python3"
  },
  "language_info": {
   "codemirror_mode": {
    "name": "ipython",
    "version": 3
   },
   "file_extension": ".py",
   "mimetype": "text/x-python",
   "name": "python",
   "nbconvert_exporter": "python",
   "pygments_lexer": "ipython3",
   "version": "3.10.9"
  }
 },
 "nbformat": 4,
 "nbformat_minor": 5
}
